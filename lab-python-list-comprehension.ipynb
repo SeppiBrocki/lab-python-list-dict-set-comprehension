{
 "cells": [
  {
   "cell_type": "markdown",
   "id": "25d7736c-ba17-4aff-b6bb-66eba20fbf4e",
   "metadata": {},
   "source": [
    "# Lab | List, Dict and Set Comprehension"
   ]
  },
  {
   "cell_type": "markdown",
   "id": "7dd3cbde-675a-4b81-92c3-f728846dbe06",
   "metadata": {},
   "source": [
    "## Exercise: Managing Customer Orders Optimized with Comprehension"
   ]
  },
  {
   "cell_type": "markdown",
   "id": "5d500160-2fb7-4777-b5e4-09d45ebaf328",
   "metadata": {},
   "source": [
    "In the previous exercise, you developed a program to manage customer orders and inventory. Now, let's take it a step further and incorporate comprehension into your code.\n",
    "\n",
    "Follow the steps below to complete the exercise:\n",
    "\n",
    "1. Review your code from the previous exercise and identify areas where you can apply comprehension to simplify and streamline your code. \n",
    "\n",
    "    - *Hint: Apply it to initialize inventory, updating the inventory and printing the updated inventory.*\n",
    "    \n",
    "    - For example, in initializing the inventory, we could have:\n",
    "    \n",
    "        ```python\n",
    "        def initialize_inventory(products):\n",
    "            inventory = {product: int(input(f\"Enter the quantity of {product}s available: \")) for product in products}\n",
    "            return inventory\n",
    "\n",
    "        ```\n",
    "<br>\n",
    "    \n",
    "    \n",
    "2. Modify the function get_customer_orders so it prompts the user to enter the number of customer orders and gathers the product names using a loop and user input. Use comprehension.\n",
    "\n",
    "3. Add a new function to calculate the total price of the customer order. For each product in customer_orders, prompt the user to enter the price of that product. Use comprehension to calculate the total price. Note: assume that the user can only have 1 unit of each product.\n",
    "\n",
    "4. Modify the update_inventory function to remove the product from the inventory if its quantity becomes zero after fulfilling the customer orders. Use comprehension to filter out the products with a quantity of zero from the inventory.\n",
    "\n",
    "5. Print the total price of the customer order.\n",
    "\n",
    "Your code should produce output similar to the following:\n",
    "\n",
    "```python\n",
    "Enter the quantity of t-shirts available:  5\n",
    "Enter the quantity of mugs available:  4\n",
    "Enter the quantity of hats available:  3\n",
    "Enter the quantity of books available:  2\n",
    "Enter the quantity of keychains available:  1\n",
    "Enter the number of customer orders:  2\n",
    "Enter the name of a product that a customer wants to order:  hat\n",
    "Enter the name of a product that a customer wants to order:  keychain\n",
    "\n",
    "Order Statistics:\n",
    "Total Products Ordered: 2\n",
    "Percentage of Unique Products Ordered: 40.0\n",
    "\n",
    "Updated Inventory:\n",
    "t-shirt: 5\n",
    "mug: 4\n",
    "hat: 2\n",
    "book: 2\n",
    "Enter the price of keychain:  5\n",
    "Enter the price of hat:  10\n",
    "Total Price: 15.0\n",
    "\n",
    "```\n"
   ]
  },
  {
   "cell_type": "code",
   "execution_count": 29,
   "id": "8dec378e",
   "metadata": {},
   "outputs": [],
   "source": [
    "# Original function for initializing inventory:\n",
    "products = [\"t-shirt\", \"mug\", \"hat\", \"book\", \"keychain\"]\n",
    "def initialize_inventory(products):\n",
    "    inventory = {}\n",
    "    for product in products:\n",
    "        inventory[product] = int(input(f'How many {product}s?'))\n",
    "    return inventory"
   ]
  },
  {
   "cell_type": "code",
   "execution_count": null,
   "id": "92317d18",
   "metadata": {},
   "outputs": [],
   "source": [
    "# function with comprehension for initializing inventory:\n",
    "products = [\"t-shirt\", \"mug\", \"hat\", \"book\", \"keychain\"]\n",
    "def initialize_inventory(products):\n",
    "    inventory = {product: int(input(f'How many {product}s?')) for product in products}\n",
    "    return inventory\n",
    "\n",
    "inventory_new = initialize_inventory(products)\n",
    "print (inventory_new)"
   ]
  },
  {
   "cell_type": "code",
   "execution_count": 3,
   "id": "ffec7c3b",
   "metadata": {},
   "outputs": [],
   "source": [
    "# Original function for updating inventory:\n",
    "def update_inventory(customer_orders, inventory):\n",
    "    for i in customer_orders:\n",
    "        if i in inventory:\n",
    "            inventory[i] -= 1\n",
    "    return inventory"
   ]
  },
  {
   "cell_type": "code",
   "execution_count": 5,
   "id": "c5addd12",
   "metadata": {},
   "outputs": [],
   "source": [
    "# function with comprehension for updating inventory:\n",
    "def update_inventory(customer_orders, inventory):\n",
    "    inventory = {item: inventory[item] - customer_orders[item] if item in customer_orders else inventory[item] for item in inventory}\n",
    "    return inventory"
   ]
  },
  {
   "cell_type": "code",
   "execution_count": null,
   "id": "df2fe057",
   "metadata": {},
   "outputs": [],
   "source": [
    "# Original function for getting customer orders:\n",
    "def get_customer_orders():\n",
    "    customer_orders = set()\n",
    "    order_more = \"yes\"\n",
    "    while order_more == \"yes\":\n",
    "        customer_orders.add(input(\"Tell me your order \"))\n",
    "        order_more = input(\"If you want to order anything else, type 'yes', if not, type 'no' \")\n",
    "    return customer_orders"
   ]
  },
  {
   "cell_type": "code",
   "execution_count": 11,
   "id": "1a9cb55a",
   "metadata": {},
   "outputs": [],
   "source": [
    "# function with comprehension for getting customer orders:\n",
    "def get_customer_orders(products):\n",
    "    customer_orders = {product: int(input(f'How many {product}s? ')) for product in products}\n",
    "    return customer_orders\n"
   ]
  },
  {
   "cell_type": "code",
   "execution_count": 17,
   "id": "e882d940",
   "metadata": {},
   "outputs": [],
   "source": [
    "customer_orders = get_customer_orders(products)"
   ]
  },
  {
   "cell_type": "code",
   "execution_count": 15,
   "id": "6041c375",
   "metadata": {},
   "outputs": [],
   "source": [
    "# Calculate total price with comprehension:\n",
    "def total_price(customer_orders):\n",
    "    total_price = {product: int(input(f'How much is the {product}')) for product in customer_orders}\n",
    "    return total_price"
   ]
  },
  {
   "cell_type": "code",
   "execution_count": 18,
   "id": "6ed5150e",
   "metadata": {},
   "outputs": [
    {
     "data": {
      "text/plain": [
       "{'t-shirt': 2, 'mug': 3, 'hat': 4, 'book': 5, 'keychain': 6}"
      ]
     },
     "execution_count": 18,
     "metadata": {},
     "output_type": "execute_result"
    }
   ],
   "source": [
    "total_price = total_price(customer_orders)\n",
    "total_price"
   ]
  },
  {
   "cell_type": "code",
   "execution_count": 26,
   "id": "f8e486b3",
   "metadata": {},
   "outputs": [],
   "source": [
    "# function with comprehension for updating inventory:\n",
    "def update_inventory(customer_orders, inventory):\n",
    "    inventory = {item: inventory[item] - customer_orders[item] if item in customer_orders else inventory[item] for item in inventory}\n",
    "    inventory = {item: quantity for item, quantity in inventory.items() if quantity > 0}\n",
    "    return inventory"
   ]
  },
  {
   "cell_type": "code",
   "execution_count": 28,
   "id": "c5144019",
   "metadata": {},
   "outputs": [
    {
     "data": {
      "text/plain": [
       "{'t-shirt': 1, 'mug': 2, 'hat': 3, 'book': 4, 'keychain': 5}"
      ]
     },
     "execution_count": 28,
     "metadata": {},
     "output_type": "execute_result"
    }
   ],
   "source": [
    "inventory_1 = update_inventory(customer_orders, inventory)\n",
    "inventory_1"
   ]
  },
  {
   "cell_type": "code",
   "execution_count": null,
   "id": "a4a4c538",
   "metadata": {},
   "outputs": [],
   "source": [
    "import math\n",
    "\n",
    "products = [\"t-shirt\", \"mug\", \"hat\", \"book\", \"keychain\"]\n",
    "\n",
    "def calculate_total_price(products):\n",
    "    \"\"\"\n",
    "    This function takes a list of products as an argument.\n",
    "    It iterates through every product and prompts the user to type in the prize for every product and saves them in the dictionary \"prices\", which it returns.\n",
    "    It checks if the user input is valid.\n",
    "    \"\"\"\n",
    "    prices = {}\n",
    "    for product in products:\n",
    "        entry = False\n",
    "        while entry == False:\n",
    "            try:\n",
    "                prices_input = input(f'What is the prize for {product}?')\n",
    "                prices_input.strip()\n",
    "                prices_input = float(prices_input)\n",
    "                check_positive = math.sqrt(prices_input)\n",
    "                prices[product] = prices_input\n",
    "                entry = True\n",
    "            except:\n",
    "                print('Please enter a positive, decimal number')\n",
    "                \n",
    "    return prices\n",
    "\n",
    "prices = calculate_total_price(products)\n",
    "\n",
    "print(prices)"
   ]
  },
  {
   "cell_type": "code",
   "execution_count": null,
   "id": "b405c6cd",
   "metadata": {},
   "outputs": [],
   "source": [
    "import math\n",
    "\n",
    "products_av = {'t-shirt': {'price': 12, 'vol': 10},\n",
    "                'mug': {'price': 5, 'vol': 30},\n",
    "                'hat': {'price': 14, 'vol':8},\n",
    "                'book': {'price': 25, 'vol': 22},\n",
    "                'keychain': {'price': 4, 'vol': 40}  }\n",
    "\n",
    "def get_customer_ordsers_new(products_av):\n",
    "    \"\"\"\n",
    "    This function takes a nested dictionary as an argument (inventory of products).\n",
    "    It iterates through the inventory an prompts the user for every product to enter his order.\n",
    "    It checks if the user input is valid and if there is enough stock available for every order.\n",
    "    It returns a nested dictionary with the orders and the total price for each product.\n",
    "    It also decreases the stock of every product in the inventory of products according to the customer's order.\n",
    "    \"\"\"\n",
    "    order_volume = {}\n",
    "    for k in products_av:\n",
    "        entry = False\n",
    "        while entry == False:\n",
    "            try:\n",
    "                order = input(f'How many {k}s do you want to order?')\n",
    "                order.strip()\n",
    "                order = int(order)\n",
    "                check_positive = math.sqrt(order)\n",
    "                if order <= products_av[k]['vol']:\n",
    "                    order_volume[k] = {'vol': order, 'price': order * products_av[k]['price']}\n",
    "                    products_av[k]['vol'] -= order\n",
    "                    entry = True\n",
    "                else: print(f'There are only {products_av[k][\"vol\"]} {k}s available')\n",
    "            except:\n",
    "                print('Please enter a positive, whole number')\n",
    "    print('Thank you for your order!')     \n",
    "    return order_volume\n",
    "                \n",
    "order_volume = get_customer_ordsers_new(products_av)\n",
    "\n",
    "print(order_volume)   \n",
    "                       "
   ]
  },
  {
   "cell_type": "code",
   "execution_count": null,
   "id": "2c244302",
   "metadata": {},
   "outputs": [],
   "source": []
  }
 ],
 "metadata": {
  "kernelspec": {
   "display_name": "Python 3 (ipykernel)",
   "language": "python",
   "name": "python3"
  },
  "language_info": {
   "codemirror_mode": {
    "name": "ipython",
    "version": 3
   },
   "file_extension": ".py",
   "mimetype": "text/x-python",
   "name": "python",
   "nbconvert_exporter": "python",
   "pygments_lexer": "ipython3",
   "version": "3.11.0"
  }
 },
 "nbformat": 4,
 "nbformat_minor": 5
}
